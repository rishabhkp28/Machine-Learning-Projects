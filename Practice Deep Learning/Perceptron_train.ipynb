version https://git-lfs.github.com/spec/v1
oid sha256:7439fe4808c8865b5ffc50d581ce7f543876f4178c6fb8e5ee1ea9c2afe70bd6
size 99307
